{
 "cells": [
  {
   "cell_type": "code",
   "execution_count": 1,
   "metadata": {},
   "outputs": [],
   "source": [
    "import numpy as np"
   ]
  },
  {
   "cell_type": "markdown",
   "metadata": {},
   "source": [
    "# Classe Stump\n",
    "\n",
    "- Um Stump, ou Decision Stump, é um modelo de classificação fraco que consiste em ser basicamente uma Árvore de Decisão contendo apenas altura igual à 1 e 2 folhas. Com isso, conseguimos deduzir de onde veio esse nome, visto que Stump é uma tradução literal de tronco de árvore.<br><br>\n",
    "\n",
    "- Modelei um Stump como uma classe para facilitar o uso do mesmo ao longo do algoritmo do AdaBoost. Nela, teremos 3 parâmetros onde 2 podem ser opcionais:\n",
    "    - feature: representa sobre qual feature estaremos aplicando o Stump.\n",
    "    - value: representa o valor daquela feature. No caso do dataset poderá ser x, o ou b.\n",
    "    - pred: representa qual predição será dada caso o valor da feature seja value.<br><br>\n",
    "    \n",
    "- Por exemplo, ao instanciarmos um Stump(0, x, 1) todos os valores iguais à x da feature 0 serão classificados como da classe 1 e classificados como a classe -1 caso contrário.<br><br>\n",
    "\n",
    "- Além das features podemos passar TRUE e FALSE, como strings, para um Stump. Nesse caso, as predições serão sempre 1 caso o Stump seja inicializado com TRUE e -1 caso seja inicializado com FALSE. Por exemplo: Stump(\"TRUE\") e Stump(\"FALSE\"), respectivamente."
   ]
  },
  {
   "cell_type": "code",
   "execution_count": 2,
   "metadata": {},
   "outputs": [],
   "source": [
    "class Stump:\n",
    "    \"\"\"\n",
    "        Implementation of Stump Model - weak classifier\n",
    "        A Stump is a decision tree with 1 node and 2 leafs only\n",
    "    \"\"\"\n",
    "    \n",
    "    def __init__(self, feature, value=None, pred=None):\n",
    "        \"\"\"\n",
    "            Constructor of class\n",
    "            Needs a feature, value and prediction associated with that feature\n",
    "            \n",
    "            Feature can also be TRUE or FALSE, in that case value=None and pred=None by default\n",
    "        \"\"\"\n",
    "        self._pred = pred\n",
    "        self._value = value\n",
    "        self._feature = feature\n",
    "        \n",
    "        \n",
    "    def __str__(self):\n",
    "        \"\"\"\n",
    "            For printing a Stump\n",
    "        \"\"\"\n",
    "        return \"(%s, %s, %s)\" % (self._feature, self._value, self._pred)\n",
    "        \n",
    "    def predict(self, X):\n",
    "        \"\"\"\n",
    "            Class prediction by model (feature, value, pred)\n",
    "            Returns a numpy.ndarray with values -pred and pred\n",
    "        \"\"\"\n",
    "        n_samples = X.shape[0]\n",
    "        \n",
    "        if self._feature == \"TRUE\": # all classes are 1\n",
    "            return np.ones(n_samples).astype(int)\n",
    "        \n",
    "        if self._feature == \"FALSE\": # all classes are -1\n",
    "            return (-1) * np.ones(n_samples).astype(int)\n",
    "        \n",
    "        preds = np.empty(n_samples).astype(int)\n",
    "        for i in range(n_samples):\n",
    "            if X[i, self._feature] == self._value:\n",
    "                preds[i] = self._pred\n",
    "            else:\n",
    "                preds[i] = (-1) * self._pred\n",
    "                \n",
    "        return preds"
   ]
  }
 ],
 "metadata": {
  "kernelspec": {
   "display_name": "Python 3",
   "language": "python",
   "name": "python3"
  },
  "language_info": {
   "codemirror_mode": {
    "name": "ipython",
    "version": 3
   },
   "file_extension": ".py",
   "mimetype": "text/x-python",
   "name": "python",
   "nbconvert_exporter": "python",
   "pygments_lexer": "ipython3",
   "version": "3.6.10"
  }
 },
 "nbformat": 4,
 "nbformat_minor": 4
}
