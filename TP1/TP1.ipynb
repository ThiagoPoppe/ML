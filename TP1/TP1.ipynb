{
 "cells": [
  {
   "cell_type": "markdown",
   "metadata": {},
   "source": [
    "## Trabalho Prático 01 - Aprendizagem de Máquina\n",
    "- Thiago Martin Poppe\n",
    "- 2017014324"
   ]
  },
  {
   "cell_type": "code",
   "execution_count": 1,
   "metadata": {},
   "outputs": [],
   "source": [
    "import numpy as np\n",
    "import pandas as pd\n",
    "import matplotlib.pyplot as plt\n",
    "\n",
    "from sklearn import metrics\n",
    "from sklearn.model_selection import KFold\n",
    "\n",
    "# Importando os modelos utilizados\n",
    "from sklearn.svm import SVC\n",
    "from sklearn.naive_bayes import GaussianNB\n",
    "from sklearn.tree import DecisionTreeClassifier\n",
    "from sklearn.neighbors import KNeighborsClassifier\n",
    "from sklearn.ensemble import RandomForestClassifier\n",
    "from sklearn.ensemble import GradientBoostingClassifier\n",
    "\n",
    "import warnings\n",
    "warnings.filterwarnings(\"ignore\") # Ignorar warnings apenas para tornar o notebook mais legível"
   ]
  },
  {
   "cell_type": "markdown",
   "metadata": {},
   "source": [
    "## Lendo o dataset\n",
    "\n",
    "- Lendo os dados e imprimindo as 5 primeiras linhas para ter uma visualização geral"
   ]
  },
  {
   "cell_type": "code",
   "execution_count": 2,
   "metadata": {
    "tags": []
   },
   "outputs": [
    {
     "name": "stdout",
     "output_type": "stream",
     "text": [
      "Dataset shape: (5202, 43)\n"
     ]
    },
    {
     "data": {
      "text/html": [
       "<div>\n",
       "<style scoped>\n",
       "    .dataframe tbody tr th:only-of-type {\n",
       "        vertical-align: middle;\n",
       "    }\n",
       "\n",
       "    .dataframe tbody tr th {\n",
       "        vertical-align: top;\n",
       "    }\n",
       "\n",
       "    .dataframe thead th {\n",
       "        text-align: right;\n",
       "    }\n",
       "</style>\n",
       "<table border=\"1\" class=\"dataframe\">\n",
       "  <thead>\n",
       "    <tr style=\"text-align: right;\">\n",
       "      <th></th>\n",
       "      <th>kepoi_name</th>\n",
       "      <th>koi_disposition</th>\n",
       "      <th>koi_period</th>\n",
       "      <th>koi_impact</th>\n",
       "      <th>koi_duration</th>\n",
       "      <th>koi_depth</th>\n",
       "      <th>koi_ror</th>\n",
       "      <th>koi_srho</th>\n",
       "      <th>koi_prad</th>\n",
       "      <th>koi_sma</th>\n",
       "      <th>...</th>\n",
       "      <th>koi_fwm_srao</th>\n",
       "      <th>koi_fwm_sdeco</th>\n",
       "      <th>koi_fwm_prao</th>\n",
       "      <th>koi_fwm_pdeco</th>\n",
       "      <th>koi_dicco_mra</th>\n",
       "      <th>koi_dicco_mdec</th>\n",
       "      <th>koi_dicco_msky</th>\n",
       "      <th>koi_dikco_mra</th>\n",
       "      <th>koi_dikco_mdec</th>\n",
       "      <th>koi_dikco_msky</th>\n",
       "    </tr>\n",
       "  </thead>\n",
       "  <tbody>\n",
       "    <tr>\n",
       "      <th>0</th>\n",
       "      <td>K00752.01</td>\n",
       "      <td>CONFIRMED</td>\n",
       "      <td>9.48804</td>\n",
       "      <td>0.146</td>\n",
       "      <td>2.95750</td>\n",
       "      <td>615.8</td>\n",
       "      <td>0.02234</td>\n",
       "      <td>3.20796</td>\n",
       "      <td>2.26</td>\n",
       "      <td>0.0853</td>\n",
       "      <td>...</td>\n",
       "      <td>0.430</td>\n",
       "      <td>0.940</td>\n",
       "      <td>-0.00020</td>\n",
       "      <td>-0.00055</td>\n",
       "      <td>-0.010</td>\n",
       "      <td>0.200</td>\n",
       "      <td>0.200</td>\n",
       "      <td>0.080</td>\n",
       "      <td>0.310</td>\n",
       "      <td>0.320</td>\n",
       "    </tr>\n",
       "    <tr>\n",
       "      <th>1</th>\n",
       "      <td>K00752.02</td>\n",
       "      <td>CONFIRMED</td>\n",
       "      <td>54.41838</td>\n",
       "      <td>0.586</td>\n",
       "      <td>4.50700</td>\n",
       "      <td>874.8</td>\n",
       "      <td>0.02795</td>\n",
       "      <td>3.02368</td>\n",
       "      <td>2.83</td>\n",
       "      <td>0.2734</td>\n",
       "      <td>...</td>\n",
       "      <td>-0.630</td>\n",
       "      <td>1.230</td>\n",
       "      <td>0.00066</td>\n",
       "      <td>-0.00105</td>\n",
       "      <td>0.390</td>\n",
       "      <td>0.000</td>\n",
       "      <td>0.390</td>\n",
       "      <td>0.490</td>\n",
       "      <td>0.120</td>\n",
       "      <td>0.500</td>\n",
       "    </tr>\n",
       "    <tr>\n",
       "      <th>2</th>\n",
       "      <td>K00754.01</td>\n",
       "      <td>FALSE POSITIVE</td>\n",
       "      <td>1.73695</td>\n",
       "      <td>1.276</td>\n",
       "      <td>2.40641</td>\n",
       "      <td>8079.2</td>\n",
       "      <td>0.38739</td>\n",
       "      <td>0.22080</td>\n",
       "      <td>33.46</td>\n",
       "      <td>0.0267</td>\n",
       "      <td>...</td>\n",
       "      <td>-0.111</td>\n",
       "      <td>0.002</td>\n",
       "      <td>0.00302</td>\n",
       "      <td>-0.00142</td>\n",
       "      <td>-0.249</td>\n",
       "      <td>0.147</td>\n",
       "      <td>0.289</td>\n",
       "      <td>-0.257</td>\n",
       "      <td>0.099</td>\n",
       "      <td>0.276</td>\n",
       "    </tr>\n",
       "    <tr>\n",
       "      <th>3</th>\n",
       "      <td>K00755.01</td>\n",
       "      <td>CONFIRMED</td>\n",
       "      <td>2.52559</td>\n",
       "      <td>0.701</td>\n",
       "      <td>1.65450</td>\n",
       "      <td>603.3</td>\n",
       "      <td>0.02406</td>\n",
       "      <td>1.98635</td>\n",
       "      <td>2.75</td>\n",
       "      <td>0.0374</td>\n",
       "      <td>...</td>\n",
       "      <td>-0.010</td>\n",
       "      <td>0.230</td>\n",
       "      <td>0.00008</td>\n",
       "      <td>-0.00007</td>\n",
       "      <td>0.030</td>\n",
       "      <td>-0.090</td>\n",
       "      <td>0.100</td>\n",
       "      <td>0.070</td>\n",
       "      <td>0.020</td>\n",
       "      <td>0.070</td>\n",
       "    </tr>\n",
       "    <tr>\n",
       "      <th>4</th>\n",
       "      <td>K00114.01</td>\n",
       "      <td>FALSE POSITIVE</td>\n",
       "      <td>7.36179</td>\n",
       "      <td>1.169</td>\n",
       "      <td>5.02200</td>\n",
       "      <td>233.7</td>\n",
       "      <td>0.18339</td>\n",
       "      <td>0.00485</td>\n",
       "      <td>39.21</td>\n",
       "      <td>0.0820</td>\n",
       "      <td>...</td>\n",
       "      <td>-13.450</td>\n",
       "      <td>24.090</td>\n",
       "      <td>0.00303</td>\n",
       "      <td>-0.00555</td>\n",
       "      <td>-4.506</td>\n",
       "      <td>7.710</td>\n",
       "      <td>8.930</td>\n",
       "      <td>-4.537</td>\n",
       "      <td>7.713</td>\n",
       "      <td>8.948</td>\n",
       "    </tr>\n",
       "  </tbody>\n",
       "</table>\n",
       "<p>5 rows × 43 columns</p>\n",
       "</div>"
      ],
      "text/plain": [
       "  kepoi_name koi_disposition  koi_period  koi_impact  koi_duration  koi_depth  \\\n",
       "0  K00752.01       CONFIRMED     9.48804       0.146       2.95750      615.8   \n",
       "1  K00752.02       CONFIRMED    54.41838       0.586       4.50700      874.8   \n",
       "2  K00754.01  FALSE POSITIVE     1.73695       1.276       2.40641     8079.2   \n",
       "3  K00755.01       CONFIRMED     2.52559       0.701       1.65450      603.3   \n",
       "4  K00114.01  FALSE POSITIVE     7.36179       1.169       5.02200      233.7   \n",
       "\n",
       "   koi_ror  koi_srho  koi_prad  koi_sma  ...  koi_fwm_srao  koi_fwm_sdeco  \\\n",
       "0  0.02234   3.20796      2.26   0.0853  ...         0.430          0.940   \n",
       "1  0.02795   3.02368      2.83   0.2734  ...        -0.630          1.230   \n",
       "2  0.38739   0.22080     33.46   0.0267  ...        -0.111          0.002   \n",
       "3  0.02406   1.98635      2.75   0.0374  ...        -0.010          0.230   \n",
       "4  0.18339   0.00485     39.21   0.0820  ...       -13.450         24.090   \n",
       "\n",
       "   koi_fwm_prao  koi_fwm_pdeco  koi_dicco_mra  koi_dicco_mdec  koi_dicco_msky  \\\n",
       "0      -0.00020       -0.00055         -0.010           0.200           0.200   \n",
       "1       0.00066       -0.00105          0.390           0.000           0.390   \n",
       "2       0.00302       -0.00142         -0.249           0.147           0.289   \n",
       "3       0.00008       -0.00007          0.030          -0.090           0.100   \n",
       "4       0.00303       -0.00555         -4.506           7.710           8.930   \n",
       "\n",
       "   koi_dikco_mra  koi_dikco_mdec  koi_dikco_msky  \n",
       "0          0.080           0.310           0.320  \n",
       "1          0.490           0.120           0.500  \n",
       "2         -0.257           0.099           0.276  \n",
       "3          0.070           0.020           0.070  \n",
       "4         -4.537           7.713           8.948  \n",
       "\n",
       "[5 rows x 43 columns]"
      ]
     },
     "execution_count": 2,
     "metadata": {},
     "output_type": "execute_result"
    }
   ],
   "source": [
    "df = pd.read_csv('koi_data.csv')\n",
    "print(\"Dataset shape:\", df.shape)\n",
    "df.head()"
   ]
  },
  {
   "cell_type": "markdown",
   "metadata": {},
   "source": [
    "## Convertendo dados categóricos para numéricos\n",
    "- Iremos converter CONFIRMED para 1 e FALSE POSITIVE para 0"
   ]
  },
  {
   "cell_type": "code",
   "execution_count": 3,
   "metadata": {},
   "outputs": [
    {
     "data": {
      "text/html": [
       "<div>\n",
       "<style scoped>\n",
       "    .dataframe tbody tr th:only-of-type {\n",
       "        vertical-align: middle;\n",
       "    }\n",
       "\n",
       "    .dataframe tbody tr th {\n",
       "        vertical-align: top;\n",
       "    }\n",
       "\n",
       "    .dataframe thead th {\n",
       "        text-align: right;\n",
       "    }\n",
       "</style>\n",
       "<table border=\"1\" class=\"dataframe\">\n",
       "  <thead>\n",
       "    <tr style=\"text-align: right;\">\n",
       "      <th></th>\n",
       "      <th>kepoi_name</th>\n",
       "      <th>koi_disposition</th>\n",
       "      <th>koi_period</th>\n",
       "      <th>koi_impact</th>\n",
       "      <th>koi_duration</th>\n",
       "      <th>koi_depth</th>\n",
       "      <th>koi_ror</th>\n",
       "      <th>koi_srho</th>\n",
       "      <th>koi_prad</th>\n",
       "      <th>koi_sma</th>\n",
       "      <th>...</th>\n",
       "      <th>koi_fwm_srao</th>\n",
       "      <th>koi_fwm_sdeco</th>\n",
       "      <th>koi_fwm_prao</th>\n",
       "      <th>koi_fwm_pdeco</th>\n",
       "      <th>koi_dicco_mra</th>\n",
       "      <th>koi_dicco_mdec</th>\n",
       "      <th>koi_dicco_msky</th>\n",
       "      <th>koi_dikco_mra</th>\n",
       "      <th>koi_dikco_mdec</th>\n",
       "      <th>koi_dikco_msky</th>\n",
       "    </tr>\n",
       "  </thead>\n",
       "  <tbody>\n",
       "    <tr>\n",
       "      <th>0</th>\n",
       "      <td>K00752.01</td>\n",
       "      <td>1</td>\n",
       "      <td>9.48804</td>\n",
       "      <td>0.146</td>\n",
       "      <td>2.95750</td>\n",
       "      <td>615.8</td>\n",
       "      <td>0.02234</td>\n",
       "      <td>3.20796</td>\n",
       "      <td>2.26</td>\n",
       "      <td>0.0853</td>\n",
       "      <td>...</td>\n",
       "      <td>0.430</td>\n",
       "      <td>0.940</td>\n",
       "      <td>-0.00020</td>\n",
       "      <td>-0.00055</td>\n",
       "      <td>-0.010</td>\n",
       "      <td>0.200</td>\n",
       "      <td>0.200</td>\n",
       "      <td>0.080</td>\n",
       "      <td>0.310</td>\n",
       "      <td>0.320</td>\n",
       "    </tr>\n",
       "    <tr>\n",
       "      <th>1</th>\n",
       "      <td>K00752.02</td>\n",
       "      <td>1</td>\n",
       "      <td>54.41838</td>\n",
       "      <td>0.586</td>\n",
       "      <td>4.50700</td>\n",
       "      <td>874.8</td>\n",
       "      <td>0.02795</td>\n",
       "      <td>3.02368</td>\n",
       "      <td>2.83</td>\n",
       "      <td>0.2734</td>\n",
       "      <td>...</td>\n",
       "      <td>-0.630</td>\n",
       "      <td>1.230</td>\n",
       "      <td>0.00066</td>\n",
       "      <td>-0.00105</td>\n",
       "      <td>0.390</td>\n",
       "      <td>0.000</td>\n",
       "      <td>0.390</td>\n",
       "      <td>0.490</td>\n",
       "      <td>0.120</td>\n",
       "      <td>0.500</td>\n",
       "    </tr>\n",
       "    <tr>\n",
       "      <th>2</th>\n",
       "      <td>K00754.01</td>\n",
       "      <td>0</td>\n",
       "      <td>1.73695</td>\n",
       "      <td>1.276</td>\n",
       "      <td>2.40641</td>\n",
       "      <td>8079.2</td>\n",
       "      <td>0.38739</td>\n",
       "      <td>0.22080</td>\n",
       "      <td>33.46</td>\n",
       "      <td>0.0267</td>\n",
       "      <td>...</td>\n",
       "      <td>-0.111</td>\n",
       "      <td>0.002</td>\n",
       "      <td>0.00302</td>\n",
       "      <td>-0.00142</td>\n",
       "      <td>-0.249</td>\n",
       "      <td>0.147</td>\n",
       "      <td>0.289</td>\n",
       "      <td>-0.257</td>\n",
       "      <td>0.099</td>\n",
       "      <td>0.276</td>\n",
       "    </tr>\n",
       "    <tr>\n",
       "      <th>3</th>\n",
       "      <td>K00755.01</td>\n",
       "      <td>1</td>\n",
       "      <td>2.52559</td>\n",
       "      <td>0.701</td>\n",
       "      <td>1.65450</td>\n",
       "      <td>603.3</td>\n",
       "      <td>0.02406</td>\n",
       "      <td>1.98635</td>\n",
       "      <td>2.75</td>\n",
       "      <td>0.0374</td>\n",
       "      <td>...</td>\n",
       "      <td>-0.010</td>\n",
       "      <td>0.230</td>\n",
       "      <td>0.00008</td>\n",
       "      <td>-0.00007</td>\n",
       "      <td>0.030</td>\n",
       "      <td>-0.090</td>\n",
       "      <td>0.100</td>\n",
       "      <td>0.070</td>\n",
       "      <td>0.020</td>\n",
       "      <td>0.070</td>\n",
       "    </tr>\n",
       "    <tr>\n",
       "      <th>4</th>\n",
       "      <td>K00114.01</td>\n",
       "      <td>0</td>\n",
       "      <td>7.36179</td>\n",
       "      <td>1.169</td>\n",
       "      <td>5.02200</td>\n",
       "      <td>233.7</td>\n",
       "      <td>0.18339</td>\n",
       "      <td>0.00485</td>\n",
       "      <td>39.21</td>\n",
       "      <td>0.0820</td>\n",
       "      <td>...</td>\n",
       "      <td>-13.450</td>\n",
       "      <td>24.090</td>\n",
       "      <td>0.00303</td>\n",
       "      <td>-0.00555</td>\n",
       "      <td>-4.506</td>\n",
       "      <td>7.710</td>\n",
       "      <td>8.930</td>\n",
       "      <td>-4.537</td>\n",
       "      <td>7.713</td>\n",
       "      <td>8.948</td>\n",
       "    </tr>\n",
       "  </tbody>\n",
       "</table>\n",
       "<p>5 rows × 43 columns</p>\n",
       "</div>"
      ],
      "text/plain": [
       "  kepoi_name  koi_disposition  koi_period  koi_impact  koi_duration  \\\n",
       "0  K00752.01                1     9.48804       0.146       2.95750   \n",
       "1  K00752.02                1    54.41838       0.586       4.50700   \n",
       "2  K00754.01                0     1.73695       1.276       2.40641   \n",
       "3  K00755.01                1     2.52559       0.701       1.65450   \n",
       "4  K00114.01                0     7.36179       1.169       5.02200   \n",
       "\n",
       "   koi_depth  koi_ror  koi_srho  koi_prad  koi_sma  ...  koi_fwm_srao  \\\n",
       "0      615.8  0.02234   3.20796      2.26   0.0853  ...         0.430   \n",
       "1      874.8  0.02795   3.02368      2.83   0.2734  ...        -0.630   \n",
       "2     8079.2  0.38739   0.22080     33.46   0.0267  ...        -0.111   \n",
       "3      603.3  0.02406   1.98635      2.75   0.0374  ...        -0.010   \n",
       "4      233.7  0.18339   0.00485     39.21   0.0820  ...       -13.450   \n",
       "\n",
       "   koi_fwm_sdeco  koi_fwm_prao  koi_fwm_pdeco  koi_dicco_mra  koi_dicco_mdec  \\\n",
       "0          0.940      -0.00020       -0.00055         -0.010           0.200   \n",
       "1          1.230       0.00066       -0.00105          0.390           0.000   \n",
       "2          0.002       0.00302       -0.00142         -0.249           0.147   \n",
       "3          0.230       0.00008       -0.00007          0.030          -0.090   \n",
       "4         24.090       0.00303       -0.00555         -4.506           7.710   \n",
       "\n",
       "   koi_dicco_msky  koi_dikco_mra  koi_dikco_mdec  koi_dikco_msky  \n",
       "0           0.200          0.080           0.310           0.320  \n",
       "1           0.390          0.490           0.120           0.500  \n",
       "2           0.289         -0.257           0.099           0.276  \n",
       "3           0.100          0.070           0.020           0.070  \n",
       "4           8.930         -4.537           7.713           8.948  \n",
       "\n",
       "[5 rows x 43 columns]"
      ]
     },
     "execution_count": 3,
     "metadata": {},
     "output_type": "execute_result"
    }
   ],
   "source": [
    "df['koi_disposition'] = (df['koi_disposition'] == 'CONFIRMED').astype(int)\n",
    "df.head()"
   ]
  },
  {
   "cell_type": "markdown",
   "metadata": {},
   "source": [
    "## Separando entre classe e atributos\n",
    "\n",
    "- Separando valores entre y (CONFIRMED ou FALSE POSITIVE) e X (features).\n",
    "- Normalizando as features para que sua distribuição $\\approx$ N(0, 1): $$x' = \\frac{x - mean(x)}{std(x)}$$"
   ]
  },
  {
   "cell_type": "code",
   "execution_count": 4,
   "metadata": {},
   "outputs": [
    {
     "data": {
      "text/html": [
       "<div>\n",
       "<style scoped>\n",
       "    .dataframe tbody tr th:only-of-type {\n",
       "        vertical-align: middle;\n",
       "    }\n",
       "\n",
       "    .dataframe tbody tr th {\n",
       "        vertical-align: top;\n",
       "    }\n",
       "\n",
       "    .dataframe thead th {\n",
       "        text-align: right;\n",
       "    }\n",
       "</style>\n",
       "<table border=\"1\" class=\"dataframe\">\n",
       "  <thead>\n",
       "    <tr style=\"text-align: right;\">\n",
       "      <th></th>\n",
       "      <th>koi_period</th>\n",
       "      <th>koi_impact</th>\n",
       "      <th>koi_duration</th>\n",
       "      <th>koi_depth</th>\n",
       "      <th>koi_ror</th>\n",
       "      <th>koi_srho</th>\n",
       "      <th>koi_prad</th>\n",
       "      <th>koi_sma</th>\n",
       "      <th>koi_incl</th>\n",
       "      <th>koi_teq</th>\n",
       "      <th>...</th>\n",
       "      <th>koi_fwm_srao</th>\n",
       "      <th>koi_fwm_sdeco</th>\n",
       "      <th>koi_fwm_prao</th>\n",
       "      <th>koi_fwm_pdeco</th>\n",
       "      <th>koi_dicco_mra</th>\n",
       "      <th>koi_dicco_mdec</th>\n",
       "      <th>koi_dicco_msky</th>\n",
       "      <th>koi_dikco_mra</th>\n",
       "      <th>koi_dikco_mdec</th>\n",
       "      <th>koi_dikco_msky</th>\n",
       "    </tr>\n",
       "  </thead>\n",
       "  <tbody>\n",
       "    <tr>\n",
       "      <th>0</th>\n",
       "      <td>-0.311523</td>\n",
       "      <td>-0.217299</td>\n",
       "      <td>-0.380535</td>\n",
       "      <td>-0.309368</td>\n",
       "      <td>-0.082308</td>\n",
       "      <td>-0.008253</td>\n",
       "      <td>-0.029723</td>\n",
       "      <td>-0.301276</td>\n",
       "      <td>0.519877</td>\n",
       "      <td>-0.452083</td>\n",
       "      <td>...</td>\n",
       "      <td>0.071564</td>\n",
       "      <td>0.118416</td>\n",
       "      <td>0.000962</td>\n",
       "      <td>-0.012755</td>\n",
       "      <td>0.016119</td>\n",
       "      <td>0.104646</td>\n",
       "      <td>-0.549713</td>\n",
       "      <td>0.048032</td>\n",
       "      <td>0.149462</td>\n",
       "      <td>-0.509178</td>\n",
       "    </tr>\n",
       "    <tr>\n",
       "      <th>1</th>\n",
       "      <td>0.196636</td>\n",
       "      <td>-0.049884</td>\n",
       "      <td>-0.157990</td>\n",
       "      <td>-0.305502</td>\n",
       "      <td>-0.080138</td>\n",
       "      <td>-0.015586</td>\n",
       "      <td>-0.029569</td>\n",
       "      <td>0.476664</td>\n",
       "      <td>0.514358</td>\n",
       "      <td>-0.903237</td>\n",
       "      <td>...</td>\n",
       "      <td>-0.024986</td>\n",
       "      <td>0.138089</td>\n",
       "      <td>0.014050</td>\n",
       "      <td>-0.019205</td>\n",
       "      <td>0.178346</td>\n",
       "      <td>0.031827</td>\n",
       "      <td>-0.489349</td>\n",
       "      <td>0.214354</td>\n",
       "      <td>0.079985</td>\n",
       "      <td>-0.451904</td>\n",
       "    </tr>\n",
       "    <tr>\n",
       "      <th>2</th>\n",
       "      <td>-0.399187</td>\n",
       "      <td>0.212652</td>\n",
       "      <td>-0.459685</td>\n",
       "      <td>-0.197957</td>\n",
       "      <td>0.058845</td>\n",
       "      <td>-0.127115</td>\n",
       "      <td>-0.021291</td>\n",
       "      <td>-0.543633</td>\n",
       "      <td>-0.864035</td>\n",
       "      <td>0.323901</td>\n",
       "      <td>...</td>\n",
       "      <td>0.022287</td>\n",
       "      <td>0.054786</td>\n",
       "      <td>0.049967</td>\n",
       "      <td>-0.023978</td>\n",
       "      <td>-0.080812</td>\n",
       "      <td>0.085349</td>\n",
       "      <td>-0.521437</td>\n",
       "      <td>-0.088677</td>\n",
       "      <td>0.072306</td>\n",
       "      <td>-0.523178</td>\n",
       "    </tr>\n",
       "    <tr>\n",
       "      <th>3</th>\n",
       "      <td>-0.390267</td>\n",
       "      <td>-0.006128</td>\n",
       "      <td>-0.567677</td>\n",
       "      <td>-0.309555</td>\n",
       "      <td>-0.081642</td>\n",
       "      <td>-0.056862</td>\n",
       "      <td>-0.029591</td>\n",
       "      <td>-0.499380</td>\n",
       "      <td>0.259282</td>\n",
       "      <td>0.338080</td>\n",
       "      <td>...</td>\n",
       "      <td>0.031487</td>\n",
       "      <td>0.070253</td>\n",
       "      <td>0.005223</td>\n",
       "      <td>-0.006563</td>\n",
       "      <td>0.032341</td>\n",
       "      <td>-0.000942</td>\n",
       "      <td>-0.581484</td>\n",
       "      <td>0.043975</td>\n",
       "      <td>0.043418</td>\n",
       "      <td>-0.588726</td>\n",
       "    </tr>\n",
       "    <tr>\n",
       "      <th>4</th>\n",
       "      <td>-0.335570</td>\n",
       "      <td>0.171940</td>\n",
       "      <td>-0.084024</td>\n",
       "      <td>-0.315072</td>\n",
       "      <td>-0.020035</td>\n",
       "      <td>-0.135708</td>\n",
       "      <td>-0.019736</td>\n",
       "      <td>-0.314924</td>\n",
       "      <td>-1.242358</td>\n",
       "      <td>0.255584</td>\n",
       "      <td>...</td>\n",
       "      <td>-1.192705</td>\n",
       "      <td>1.688816</td>\n",
       "      <td>0.050119</td>\n",
       "      <td>-0.077256</td>\n",
       "      <td>-1.807321</td>\n",
       "      <td>2.839001</td>\n",
       "      <td>2.223870</td>\n",
       "      <td>-1.824919</td>\n",
       "      <td>2.856491</td>\n",
       "      <td>2.236176</td>\n",
       "    </tr>\n",
       "  </tbody>\n",
       "</table>\n",
       "<p>5 rows × 41 columns</p>\n",
       "</div>"
      ],
      "text/plain": [
       "   koi_period  koi_impact  koi_duration  koi_depth   koi_ror  koi_srho  \\\n",
       "0   -0.311523   -0.217299     -0.380535  -0.309368 -0.082308 -0.008253   \n",
       "1    0.196636   -0.049884     -0.157990  -0.305502 -0.080138 -0.015586   \n",
       "2   -0.399187    0.212652     -0.459685  -0.197957  0.058845 -0.127115   \n",
       "3   -0.390267   -0.006128     -0.567677  -0.309555 -0.081642 -0.056862   \n",
       "4   -0.335570    0.171940     -0.084024  -0.315072 -0.020035 -0.135708   \n",
       "\n",
       "   koi_prad   koi_sma  koi_incl   koi_teq  ...  koi_fwm_srao  koi_fwm_sdeco  \\\n",
       "0 -0.029723 -0.301276  0.519877 -0.452083  ...      0.071564       0.118416   \n",
       "1 -0.029569  0.476664  0.514358 -0.903237  ...     -0.024986       0.138089   \n",
       "2 -0.021291 -0.543633 -0.864035  0.323901  ...      0.022287       0.054786   \n",
       "3 -0.029591 -0.499380  0.259282  0.338080  ...      0.031487       0.070253   \n",
       "4 -0.019736 -0.314924 -1.242358  0.255584  ...     -1.192705       1.688816   \n",
       "\n",
       "   koi_fwm_prao  koi_fwm_pdeco  koi_dicco_mra  koi_dicco_mdec  koi_dicco_msky  \\\n",
       "0      0.000962      -0.012755       0.016119        0.104646       -0.549713   \n",
       "1      0.014050      -0.019205       0.178346        0.031827       -0.489349   \n",
       "2      0.049967      -0.023978      -0.080812        0.085349       -0.521437   \n",
       "3      0.005223      -0.006563       0.032341       -0.000942       -0.581484   \n",
       "4      0.050119      -0.077256      -1.807321        2.839001        2.223870   \n",
       "\n",
       "   koi_dikco_mra  koi_dikco_mdec  koi_dikco_msky  \n",
       "0       0.048032        0.149462       -0.509178  \n",
       "1       0.214354        0.079985       -0.451904  \n",
       "2      -0.088677        0.072306       -0.523178  \n",
       "3       0.043975        0.043418       -0.588726  \n",
       "4      -1.824919        2.856491        2.236176  \n",
       "\n",
       "[5 rows x 41 columns]"
      ]
     },
     "execution_count": 4,
     "metadata": {},
     "output_type": "execute_result"
    }
   ],
   "source": [
    "y = df['koi_disposition']\n",
    "X = df.drop(['kepoi_name', 'koi_disposition'], axis=1) # nome e classe não são atributos\n",
    "\n",
    "X = (X - np.mean(X)) / np.std(X, ddof=1)\n",
    "X.head()"
   ]
  },
  {
   "cell_type": "markdown",
   "metadata": {},
   "source": [
    "## Validação Cruzada\n",
    "\n",
    "- Usaremos a classe KFold, disponível em ``sklearn.model_selection``, para realizar a validação cruzada com 5-folds.\n",
    "- Instanciaremos a classe para uso posterior."
   ]
  },
  {
   "cell_type": "code",
   "execution_count": 5,
   "metadata": {
    "tags": []
   },
   "outputs": [
    {
     "name": "stdout",
     "output_type": "stream",
     "text": [
      "Número de splits: 5\n"
     ]
    }
   ],
   "source": [
    "X = X.values\n",
    "y = y.values\n",
    "\n",
    "kf = KFold(n_splits=5, shuffle=False)\n",
    "print(\"Número de splits:\", kf.get_n_splits())"
   ]
  },
  {
   "cell_type": "markdown",
   "metadata": {},
   "source": [
    "## Criação da tabela de métricas\n",
    "\n",
    "- Usaremos essa tabela para comparar os métodos no que tange acurácia em treino e validação, recall e precision.\n",
    "- Para os métodos ainda não testados usaremos NaN."
   ]
  },
  {
   "cell_type": "code",
   "execution_count": 6,
   "metadata": {},
   "outputs": [
    {
     "data": {
      "text/html": [
       "<div>\n",
       "<style scoped>\n",
       "    .dataframe tbody tr th:only-of-type {\n",
       "        vertical-align: middle;\n",
       "    }\n",
       "\n",
       "    .dataframe tbody tr th {\n",
       "        vertical-align: top;\n",
       "    }\n",
       "\n",
       "    .dataframe thead th {\n",
       "        text-align: right;\n",
       "    }\n",
       "</style>\n",
       "<table border=\"1\" class=\"dataframe\">\n",
       "  <thead>\n",
       "    <tr style=\"text-align: right;\">\n",
       "      <th></th>\n",
       "      <th>Train Accuracy</th>\n",
       "      <th>Validation Accuracy</th>\n",
       "      <th>Recall</th>\n",
       "      <th>Precision</th>\n",
       "    </tr>\n",
       "  </thead>\n",
       "  <tbody>\n",
       "    <tr>\n",
       "      <th>Naive Bayes</th>\n",
       "      <td>NaN</td>\n",
       "      <td>NaN</td>\n",
       "      <td>NaN</td>\n",
       "      <td>NaN</td>\n",
       "    </tr>\n",
       "    <tr>\n",
       "      <th>Decision Tree</th>\n",
       "      <td>NaN</td>\n",
       "      <td>NaN</td>\n",
       "      <td>NaN</td>\n",
       "      <td>NaN</td>\n",
       "    </tr>\n",
       "    <tr>\n",
       "      <th>SVM</th>\n",
       "      <td>NaN</td>\n",
       "      <td>NaN</td>\n",
       "      <td>NaN</td>\n",
       "      <td>NaN</td>\n",
       "    </tr>\n",
       "    <tr>\n",
       "      <th>k-NN</th>\n",
       "      <td>NaN</td>\n",
       "      <td>NaN</td>\n",
       "      <td>NaN</td>\n",
       "      <td>NaN</td>\n",
       "    </tr>\n",
       "    <tr>\n",
       "      <th>Random Forest</th>\n",
       "      <td>NaN</td>\n",
       "      <td>NaN</td>\n",
       "      <td>NaN</td>\n",
       "      <td>NaN</td>\n",
       "    </tr>\n",
       "    <tr>\n",
       "      <th>Gradient Tree Boosting</th>\n",
       "      <td>NaN</td>\n",
       "      <td>NaN</td>\n",
       "      <td>NaN</td>\n",
       "      <td>NaN</td>\n",
       "    </tr>\n",
       "  </tbody>\n",
       "</table>\n",
       "</div>"
      ],
      "text/plain": [
       "                       Train Accuracy Validation Accuracy Recall Precision\n",
       "Naive Bayes                       NaN                 NaN    NaN       NaN\n",
       "Decision Tree                     NaN                 NaN    NaN       NaN\n",
       "SVM                               NaN                 NaN    NaN       NaN\n",
       "k-NN                              NaN                 NaN    NaN       NaN\n",
       "Random Forest                     NaN                 NaN    NaN       NaN\n",
       "Gradient Tree Boosting            NaN                 NaN    NaN       NaN"
      ]
     },
     "execution_count": 6,
     "metadata": {},
     "output_type": "execute_result"
    }
   ],
   "source": [
    "_models = ['Naive Bayes', 'Decision Tree', 'SVM', 'k-NN', 'Random Forest', 'Gradient Tree Boosting']\n",
    "_metrics = ['Train Accuracy', 'Validation Accuracy', 'Recall', 'Precision']\n",
    "\n",
    "df = pd.DataFrame(index=_models, columns=_metrics)\n",
    "df"
   ]
  },
  {
   "cell_type": "markdown",
   "metadata": {},
   "source": [
    "## Função para treinar um modelo genérico\n",
    "\n",
    "- Função que treina um classificador, retornando um dicionário contendo acurácia do treino e validação, recall e precision."
   ]
  },
  {
   "cell_type": "code",
   "execution_count": 7,
   "metadata": {},
   "outputs": [],
   "source": [
    "def train_model(model, return_pred=False):\n",
    "    # Criando lista para cada métrica\n",
    "    train_acc = []\n",
    "    val_acc = []\n",
    "    recall = []\n",
    "    precision = []\n",
    "    predictions = []\n",
    "\n",
    "    # Dividindo os dados em treino e validação (5 folds)\n",
    "    for train, val in kf.split(X, y):\n",
    "        # Treinando o modelo\n",
    "        model.fit(X[train], y[train])\n",
    "\n",
    "        # Calculando acurácia no treino\n",
    "        y_pred = model.predict(X[train])\n",
    "        train_acc.append(metrics.accuracy_score(y[train], y_pred))\n",
    "\n",
    "        # Guardando métricas da validação\n",
    "        y_pred = model.predict(X[val])\n",
    "        val_acc.append(metrics.accuracy_score(y[val], y_pred))\n",
    "        recall.append(metrics.recall_score(y[val], y_pred))\n",
    "        precision.append(metrics.precision_score(y[val], y_pred))\n",
    "        \n",
    "        # Guardando predições na validação (probabilidades)\n",
    "        y_prob = model.predict_proba(X[val])\n",
    "        predictions.extend(y_prob[:,1])\n",
    "    \n",
    "    result = {\n",
    "        'Train Accuracy': np.mean(train_acc),\n",
    "        'Validation Accuracy': np.mean(val_acc),\n",
    "        'Recall': np.mean(recall),\n",
    "        'Precision': np.mean(precision)\n",
    "    }\n",
    "    \n",
    "    # Retornando as predições caso true\n",
    "    if return_pred == True:\n",
    "        return result, predictions\n",
    "    else:\n",
    "        return result"
   ]
  },
  {
   "cell_type": "markdown",
   "metadata": {},
   "source": [
    "# Experimentos realizados\n",
    "## 1) Naive Bayes\n",
    "\n",
    "- Treinamento de um modelo Naive Bayes Gaussiano através da classe GaussianNB, disponível em ``sklearn.naive_bayes``.\n",
    "- Esse modelo servirá de baseline para os próximos.\n",
    "\n",
    "### 1.1) Treinamento do modelo"
   ]
  },
  {
   "cell_type": "code",
   "execution_count": 8,
   "metadata": {
    "tags": []
   },
   "outputs": [
    {
     "data": {
      "text/html": [
       "<div>\n",
       "<style scoped>\n",
       "    .dataframe tbody tr th:only-of-type {\n",
       "        vertical-align: middle;\n",
       "    }\n",
       "\n",
       "    .dataframe tbody tr th {\n",
       "        vertical-align: top;\n",
       "    }\n",
       "\n",
       "    .dataframe thead th {\n",
       "        text-align: right;\n",
       "    }\n",
       "</style>\n",
       "<table border=\"1\" class=\"dataframe\">\n",
       "  <thead>\n",
       "    <tr style=\"text-align: right;\">\n",
       "      <th></th>\n",
       "      <th>Train Accuracy</th>\n",
       "      <th>Validation Accuracy</th>\n",
       "      <th>Recall</th>\n",
       "      <th>Precision</th>\n",
       "    </tr>\n",
       "  </thead>\n",
       "  <tbody>\n",
       "    <tr>\n",
       "      <th>Naive Bayes</th>\n",
       "      <td>0.916858</td>\n",
       "      <td>0.916176</td>\n",
       "      <td>0.862582</td>\n",
       "      <td>0.675045</td>\n",
       "    </tr>\n",
       "    <tr>\n",
       "      <th>Decision Tree</th>\n",
       "      <td>NaN</td>\n",
       "      <td>NaN</td>\n",
       "      <td>NaN</td>\n",
       "      <td>NaN</td>\n",
       "    </tr>\n",
       "    <tr>\n",
       "      <th>SVM</th>\n",
       "      <td>NaN</td>\n",
       "      <td>NaN</td>\n",
       "      <td>NaN</td>\n",
       "      <td>NaN</td>\n",
       "    </tr>\n",
       "    <tr>\n",
       "      <th>k-NN</th>\n",
       "      <td>NaN</td>\n",
       "      <td>NaN</td>\n",
       "      <td>NaN</td>\n",
       "      <td>NaN</td>\n",
       "    </tr>\n",
       "    <tr>\n",
       "      <th>Random Forest</th>\n",
       "      <td>NaN</td>\n",
       "      <td>NaN</td>\n",
       "      <td>NaN</td>\n",
       "      <td>NaN</td>\n",
       "    </tr>\n",
       "    <tr>\n",
       "      <th>Gradient Tree Boosting</th>\n",
       "      <td>NaN</td>\n",
       "      <td>NaN</td>\n",
       "      <td>NaN</td>\n",
       "      <td>NaN</td>\n",
       "    </tr>\n",
       "  </tbody>\n",
       "</table>\n",
       "</div>"
      ],
      "text/plain": [
       "                       Train Accuracy Validation Accuracy    Recall Precision\n",
       "Naive Bayes                  0.916858            0.916176  0.862582  0.675045\n",
       "Decision Tree                     NaN                 NaN       NaN       NaN\n",
       "SVM                               NaN                 NaN       NaN       NaN\n",
       "k-NN                              NaN                 NaN       NaN       NaN\n",
       "Random Forest                     NaN                 NaN       NaN       NaN\n",
       "Gradient Tree Boosting            NaN                 NaN       NaN       NaN"
      ]
     },
     "execution_count": 8,
     "metadata": {},
     "output_type": "execute_result"
    }
   ],
   "source": [
    "classifier = GaussianNB()\n",
    "\n",
    "# Salvando métricas computadas e exibindo o resultado\n",
    "results, best_NaiveBayes_preds = train_model(classifier, return_pred=True)\n",
    "df.loc['Naive Bayes'] = results\n",
    "\n",
    "df"
   ]
  },
  {
   "cell_type": "markdown",
   "metadata": {},
   "source": [
    "### 1.2) Explicação do modelo\n",
    "\n",
    "- O modelo Naive Bayes faz parte de uma família de classificadores simples baseados em aplicações do teorema de Bayes. Nela supomos fortemente que as features são independentes entre si, explicando assim a parte \"ingênua\" do algoritmo.\n",
    "- A escolha do conjunto de features se torna importante, pois podemos escolher um quantia boa de features independentes entre si, melhorando assim a acurácia do nosso modelo.\n",
    "\n",
    "- Teorema de Bayes:\n",
    "$$ P(A|B) = \\frac{P(B|A) * P(A)}{P(B)} $$"
   ]
  },
  {
   "cell_type": "markdown",
   "metadata": {},
   "source": [
    "## 2) Árvore de Decisão\n",
    "\n",
    "- Treinamento de um modelo Decision Tree através da classe DecisionTreeClassifier, disponível em ``sklearn.tree``.\n",
    "- Para este experimento iremos variar o hiperparâmetro correspondente à altura da árvore.\n",
    "\n",
    "### 2.1) Treinamento do modelo"
   ]
  },
  {
   "cell_type": "code",
   "execution_count": 9,
   "metadata": {
    "tags": []
   },
   "outputs": [
    {
     "name": "stdout",
     "output_type": "stream",
     "text": [
      "Training model with height = 1\n",
      "Training model with height = 2\n",
      "Training model with height = 3\n",
      "Training model with height = 4\n",
      "Training model with height = 5\n",
      "Training model with height = 6\n",
      "Training model with height = 7\n",
      "Training model with height = 8\n",
      "Training model with height = 9\n",
      "Training model with height = 10\n",
      "Training model with height = 11\n",
      "Training model with height = 12\n",
      "Training model with height = 13\n",
      "Training model with height = 14\n",
      "Training model with height = 15\n",
      "Training model with height = 16\n",
      "Training model with height = 17\n",
      "Training model with height = 18\n",
      "Training model with height = 19\n",
      "Training model with height = 20\n",
      "Training model with height = Unlimited\n",
      "Training completed!\n"
     ]
    }
   ],
   "source": [
    "param_metrics = dict()\n",
    "\n",
    "# Treinando modelo para alturas de 1 até 20\n",
    "for h in range(1, 21):\n",
    "    print(\"Training model with height =\", h)\n",
    "    classifier = DecisionTreeClassifier(max_depth=h)\n",
    "    param_metrics[h] = train_model(classifier)\n",
    "    \n",
    "# Treinando modelo para altura ilimitada\n",
    "print(\"Training model with height = Unlimited\")\n",
    "classifier = DecisionTreeClassifier(max_depth=None)\n",
    "param_metrics['Inf'] = train_model(classifier)\n",
    "\n",
    "# Indicando que o treinamento foi concluído\n",
    "print(\"Training completed!\")"
   ]
  },
  {
   "cell_type": "markdown",
   "metadata": {},
   "source": [
    "### 2.2) Resultado gráfico do experimento"
   ]
  },
  {
   "cell_type": "code",
   "execution_count": 10,
   "metadata": {},
   "outputs": [
    {
     "data": {
      "image/png": "[encoded data removed]",
      "text/plain": [
       "<Figure size 432x288 with 1 Axes>"
      ]
     },
     "metadata": {
      "needs_background": "light"
     },
     "output_type": "display_data"
    }
   ],
   "source": [
    "x = param_metrics.keys()\n",
    "train_acc = [metric['Train Accuracy']      for metric in param_metrics.values()]\n",
    "val_acc   = [metric['Validation Accuracy'] for metric in param_metrics.values()]\n",
    "\n",
    "# Definindo labels do plot\n",
    "plt.title(\"Decision Tree Model\")\n",
    "plt.ylabel(\"Accuracy\")\n",
    "plt.xlabel(\"Heights\")\n",
    "\n",
    "# Plotando acurácia no treino e validação\n",
    "plt.plot(x, train_acc, label='Train')\n",
    "plt.plot(x, val_acc, label='Validation')\n",
    "\n",
    "plt.legend()\n",
    "plt.show()"
   ]
  },
  {
   "cell_type": "markdown",
   "metadata": {},
   "source": [
    "### 2.3) Guardando modelo que apresentou os melhores resultados"
   ]
  },
  {
   "cell_type": "code",
   "execution_count": 11,
   "metadata": {},
   "outputs": [
    {
     "data": {
      "text/html": [
       "<div>\n",
       "<style scoped>\n",
       "    .dataframe tbody tr th:only-of-type {\n",
       "        vertical-align: middle;\n",
       "    }\n",
       "\n",
       "    .dataframe tbody tr th {\n",
       "        vertical-align: top;\n",
       "    }\n",
       "\n",
       "    .dataframe thead th {\n",
       "        text-align: right;\n",
       "    }\n",
       "</style>\n",
       "<table border=\"1\" class=\"dataframe\">\n",
       "  <thead>\n",
       "    <tr style=\"text-align: right;\">\n",
       "      <th></th>\n",
       "      <th>Train Accuracy</th>\n",
       "      <th>Validation Accuracy</th>\n",
       "      <th>Recall</th>\n",
       "      <th>Precision</th>\n",
       "    </tr>\n",
       "  </thead>\n",
       "  <tbody>\n",
       "    <tr>\n",
       "      <th>Naive Bayes</th>\n",
       "      <td>0.916858</td>\n",
       "      <td>0.916176</td>\n",
       "      <td>0.862582</td>\n",
       "      <td>0.675045</td>\n",
       "    </tr>\n",
       "    <tr>\n",
       "      <th>Decision Tree</th>\n",
       "      <td>0.975058</td>\n",
       "      <td>0.944443</td>\n",
       "      <td>0.853501</td>\n",
       "      <td>0.735154</td>\n",
       "    </tr>\n",
       "    <tr>\n",
       "      <th>SVM</th>\n",
       "      <td>NaN</td>\n",
       "      <td>NaN</td>\n",
       "      <td>NaN</td>\n",
       "      <td>NaN</td>\n",
       "    </tr>\n",
       "    <tr>\n",
       "      <th>k-NN</th>\n",
       "      <td>NaN</td>\n",
       "      <td>NaN</td>\n",
       "      <td>NaN</td>\n",
       "      <td>NaN</td>\n",
       "    </tr>\n",
       "    <tr>\n",
       "      <th>Random Forest</th>\n",
       "      <td>NaN</td>\n",
       "      <td>NaN</td>\n",
       "      <td>NaN</td>\n",
       "      <td>NaN</td>\n",
       "    </tr>\n",
       "    <tr>\n",
       "      <th>Gradient Tree Boosting</th>\n",
       "      <td>NaN</td>\n",
       "      <td>NaN</td>\n",
       "      <td>NaN</td>\n",
       "      <td>NaN</td>\n",
       "    </tr>\n",
       "  </tbody>\n",
       "</table>\n",
       "</div>"
      ],
      "text/plain": [
       "                       Train Accuracy Validation Accuracy    Recall Precision\n",
       "Naive Bayes                  0.916858            0.916176  0.862582  0.675045\n",
       "Decision Tree                0.975058            0.944443  0.853501  0.735154\n",
       "SVM                               NaN                 NaN       NaN       NaN\n",
       "k-NN                              NaN                 NaN       NaN       NaN\n",
       "Random Forest                     NaN                 NaN       NaN       NaN\n",
       "Gradient Tree Boosting            NaN                 NaN       NaN       NaN"
      ]
     },
     "execution_count": 11,
     "metadata": {},
     "output_type": "execute_result"
    }
   ],
   "source": [
    "classifier = DecisionTreeClassifier(max_depth=6)\n",
    "results, best_DecisionTree_preds = train_model(classifier, return_pred=True)\n",
    "df.loc['Decision Tree'] = results\n",
    "df"
   ]
  },
  {
   "cell_type": "markdown",
   "metadata": {},
   "source": [
    "- Para esse experimento variamos a altura da árvore de decisão entre os valores 1 até 20, incluindo no final uma altura ilimitada. Para modificarmos esse hiperparâmetro, utilizei o parâmetro ``max_depth`` presente na classe ``DecisionTreeClassifier``, onde ``max_depth=None`` representa uma árvore de decisão com altura ilimitada, isto é, uma árvore que possui todas as folhas puras ou até que não se possa fazer mais splits. <br><br>\n",
    "- Como observado no gráfico da seção 2.2, temos que uma árvore com altura ilimitada leva à uma acurácia de 100% no treino. Por mais interessante que esse valor seja estamos com uma diferença muito grande entre as curvas de treino e validação, indicando assim um overfit dos dados. <br><br>\n",
    "- Teremos que o melhor modelo para os dados escolhidos será uma árvore de altura igual à 5, pois após esse valor não temos um aumento da acurácia significativo na validação e as curvas apenas se distanciam."
   ]
  },
  {
   "cell_type": "markdown",
   "metadata": {},
   "source": [
    "## 3) SVM (Support Vector Machine)\n",
    "\n",
    "- Treinamento de um modelo SVM (Support Vector Machine) através da classe SVC (Support Vector Classification), disponível em ``sklearn.svm``.\n",
    "- Para este experimento iremos variar o hiperparâmetro correspondente ao kernel utilizado pelo SVM, podendo ser Linear, Sigmoid, Polinomial e RBF (radial basis function).\n",
    "\n",
    "### 3.1) Treinamento do modelo"
   ]
  },
  {
   "cell_type": "code",
   "execution_count": 12,
   "metadata": {},
   "outputs": [
    {
     "name": "stdout",
     "output_type": "stream",
     "text": [
      "Training model with kernel = linear\n",
      "Training model with kernel = sigmoid\n",
      "Training model with kernel = poly\n",
      "Training model with kernel = rbf\n",
      "Training completed!\n"
     ]
    }
   ],
   "source": [
    "param_metrics = dict()\n",
    "kernels = ['linear', 'sigmoid', 'poly', 'rbf']\n",
    "\n",
    "# Treinando modelo para cada tipo de kernel\n",
    "for k in kernels:\n",
    "    print(\"Training model with kernel =\", k)\n",
    "    classifier = SVC(kernel=k, gamma='auto', probability=True)\n",
    "    param_metrics[k] = train_model(classifier)\n",
    "    \n",
    "# Indicando que o treinamento foi concluído\n",
    "print(\"Training completed!\")"
   ]
  },
  {
   "cell_type": "markdown",
   "metadata": {},
   "source": [
    "### 3.2) Resultado do experimento"
   ]
  },
  {
   "cell_type": "code",
   "execution_count": 13,
   "metadata": {},
   "outputs": [
    {
     "data": {
      "text/html": [
       "<div>\n",
       "<style scoped>\n",
       "    .dataframe tbody tr th:only-of-type {\n",
       "        vertical-align: middle;\n",
       "    }\n",
       "\n",
       "    .dataframe tbody tr th {\n",
       "        vertical-align: top;\n",
       "    }\n",
       "\n",
       "    .dataframe thead th {\n",
       "        text-align: right;\n",
       "    }\n",
       "</style>\n",
       "<table border=\"1\" class=\"dataframe\">\n",
       "  <thead>\n",
       "    <tr style=\"text-align: right;\">\n",
       "      <th></th>\n",
       "      <th>Train Accuracy</th>\n",
       "      <th>Validation Accuracy</th>\n",
       "      <th>Recall</th>\n",
       "      <th>Precision</th>\n",
       "    </tr>\n",
       "  </thead>\n",
       "  <tbody>\n",
       "    <tr>\n",
       "      <th>linear</th>\n",
       "      <td>0.955738</td>\n",
       "      <td>0.941175</td>\n",
       "      <td>0.947416</td>\n",
       "      <td>0.736817</td>\n",
       "    </tr>\n",
       "    <tr>\n",
       "      <th>sigmoid</th>\n",
       "      <td>0.836649</td>\n",
       "      <td>0.812009</td>\n",
       "      <td>0.692094</td>\n",
       "      <td>0.622871</td>\n",
       "    </tr>\n",
       "    <tr>\n",
       "      <th>poly</th>\n",
       "      <td>0.865244</td>\n",
       "      <td>0.762974</td>\n",
       "      <td>0.859412</td>\n",
       "      <td>0.615527</td>\n",
       "    </tr>\n",
       "    <tr>\n",
       "      <th>rbf</th>\n",
       "      <td>0.944204</td>\n",
       "      <td>0.927142</td>\n",
       "      <td>0.843110</td>\n",
       "      <td>0.700251</td>\n",
       "    </tr>\n",
       "  </tbody>\n",
       "</table>\n",
       "</div>"
      ],
      "text/plain": [
       "         Train Accuracy  Validation Accuracy    Recall  Precision\n",
       "linear         0.955738             0.941175  0.947416   0.736817\n",
       "sigmoid        0.836649             0.812009  0.692094   0.622871\n",
       "poly           0.865244             0.762974  0.859412   0.615527\n",
       "rbf            0.944204             0.927142  0.843110   0.700251"
      ]
     },
     "execution_count": 13,
     "metadata": {},
     "output_type": "execute_result"
    }
   ],
   "source": [
    "cols = ['Train Accuracy', 'Validation Accuracy', 'Recall', 'Precision']\n",
    "\n",
    "table = pd.DataFrame.from_dict(param_metrics, orient='index')\n",
    "table"
   ]
  },
  {
   "cell_type": "markdown",
   "metadata": {},
   "source": [
    "### 3.3) Guardando modelo que apresentou os melhores resultados"
   ]
  },
  {
   "cell_type": "code",
   "execution_count": 14,
   "metadata": {},
   "outputs": [
    {
     "data": {
      "text/html": [
       "<div>\n",
       "<style scoped>\n",
       "    .dataframe tbody tr th:only-of-type {\n",
       "        vertical-align: middle;\n",
       "    }\n",
       "\n",
       "    .dataframe tbody tr th {\n",
       "        vertical-align: top;\n",
       "    }\n",
       "\n",
       "    .dataframe thead th {\n",
       "        text-align: right;\n",
       "    }\n",
       "</style>\n",
       "<table border=\"1\" class=\"dataframe\">\n",
       "  <thead>\n",
       "    <tr style=\"text-align: right;\">\n",
       "      <th></th>\n",
       "      <th>Train Accuracy</th>\n",
       "      <th>Validation Accuracy</th>\n",
       "      <th>Recall</th>\n",
       "      <th>Precision</th>\n",
       "    </tr>\n",
       "  </thead>\n",
       "  <tbody>\n",
       "    <tr>\n",
       "      <th>Naive Bayes</th>\n",
       "      <td>0.916858</td>\n",
       "      <td>0.916176</td>\n",
       "      <td>0.862582</td>\n",
       "      <td>0.675045</td>\n",
       "    </tr>\n",
       "    <tr>\n",
       "      <th>Decision Tree</th>\n",
       "      <td>0.975058</td>\n",
       "      <td>0.944443</td>\n",
       "      <td>0.853501</td>\n",
       "      <td>0.735154</td>\n",
       "    </tr>\n",
       "    <tr>\n",
       "      <th>SVM</th>\n",
       "      <td>0.955738</td>\n",
       "      <td>0.941175</td>\n",
       "      <td>0.947416</td>\n",
       "      <td>0.736817</td>\n",
       "    </tr>\n",
       "    <tr>\n",
       "      <th>k-NN</th>\n",
       "      <td>NaN</td>\n",
       "      <td>NaN</td>\n",
       "      <td>NaN</td>\n",
       "      <td>NaN</td>\n",
       "    </tr>\n",
       "    <tr>\n",
       "      <th>Random Forest</th>\n",
       "      <td>NaN</td>\n",
       "      <td>NaN</td>\n",
       "      <td>NaN</td>\n",
       "      <td>NaN</td>\n",
       "    </tr>\n",
       "    <tr>\n",
       "      <th>Gradient Tree Boosting</th>\n",
       "      <td>NaN</td>\n",
       "      <td>NaN</td>\n",
       "      <td>NaN</td>\n",
       "      <td>NaN</td>\n",
       "    </tr>\n",
       "  </tbody>\n",
       "</table>\n",
       "</div>"
      ],
      "text/plain": [
       "                       Train Accuracy Validation Accuracy    Recall Precision\n",
       "Naive Bayes                  0.916858            0.916176  0.862582  0.675045\n",
       "Decision Tree                0.975058            0.944443  0.853501  0.735154\n",
       "SVM                          0.955738            0.941175  0.947416  0.736817\n",
       "k-NN                              NaN                 NaN       NaN       NaN\n",
       "Random Forest                     NaN                 NaN       NaN       NaN\n",
       "Gradient Tree Boosting            NaN                 NaN       NaN       NaN"
      ]
     },
     "execution_count": 14,
     "metadata": {},
     "output_type": "execute_result"
    }
   ],
   "source": [
    "classifier = SVC(kernel='linear', gamma='auto', probability=True)\n",
    "results, best_SVM_preds = train_model(classifier, return_pred=True)\n",
    "df.loc['SVM'] = results\n",
    "df"
   ]
  },
  {
   "cell_type": "markdown",
   "metadata": {},
   "source": [
    "- Para esse experimento variamos o tipo de kernel a ser utilizado pelo SVM, sendo eles: Linear, Sigmoid, Polinomial e RBF. Para modificar esse hiperparâmetro utilizei o parâmetro ``kernel`` presente na classe ``SVC``, ou ``Support Vector Classification``. O kernel permite com que o SVM separe dados não linearmente separáveis mudando a representação dos mesmos para uma dimensão onde eles se tornam linearmente separáveis. <br><br>\n",
    "\n",
    "- Como observado na tabela da seção 3.2, temos que o modelo com kernel linear obteve a maior acurácia na validação dentre os 4, dando a entender assim que os dados provavelmente são linearmente separáveis, ou próximo disso. Como a diferença entre a acurácia no treino e na validação é pequena, podemos dizer que o modelo não está sofrendo overfit. <br><br>\n",
    "\n",
    "- Para os demais hiperparâmetros optei por deixar o valor padrão, visto que isso já apresenta um resultado interessante. Um exemplo seria o valor de $C = 1$ que indica o trade-off entre a maximização da margem e a minimização do somatório das variáveis de folga (slack-variables) presente na função de perda do modelo.<br><br>\n",
    "\n",
    "- Obs.: Utilizo o hiperparâmetro ``gamma='auto'`` apenas para evitar um warning na versão que utilizo e ``probability=True`` para podermos utilizar a função ``predict_proba``."
   ]
  },
  {
   "cell_type": "markdown",
   "metadata": {},
   "source": [
    "## 4) k-NN (K-Nearest Neighboors)\n",
    "\n",
    "- Treinamento de um modelo k-NN através da classe KNeighborsClassifier, disponível em ``sklearn.neighbors``.\n",
    "- Para este experimento iremos variar o hiperparâmetro correspondente ao valor de k.\n",
    "\n",
    "### 4.1) Treinamento do modelo\n",
    "- Variamos de 2 em 2 apenas para que o experimento demore menos tempo."
   ]
  },
  {
   "cell_type": "code",
   "execution_count": 15,
   "metadata": {},
   "outputs": [
    {
     "name": "stdout",
     "output_type": "stream",
     "text": [
      "Training model with k = 1\n",
      "Training model with k = 3\n",
      "Training model with k = 5\n",
      "Training model with k = 7\n",
      "Training model with k = 9\n",
      "Training model with k = 11\n",
      "Training model with k = 13\n",
      "Training model with k = 15\n",
      "Training model with k = 17\n",
      "Training model with k = 19\n",
      "Training completed!\n"
     ]
    }
   ],
   "source": [
    "param_metrics = dict()\n",
    "\n",
    "# Treinando modelo para k de 1 à 20 variando de 2 a 2\n",
    "for k in range(1, 21, 2):\n",
    "    print('Training model with k =', k)\n",
    "    classifier = KNeighborsClassifier(n_neighbors=k)\n",
    "    param_metrics[k] = train_model(classifier)\n",
    "\n",
    "# Indicando que o treinamento foi concluído\n",
    "print(\"Training completed!\")"
   ]
  },
  {
   "cell_type": "markdown",
   "metadata": {},
   "source": [
    "### 4.2) Resultados gráficos do experimento"
   ]
  },
  {
   "cell_type": "code",
   "execution_count": 16,
   "metadata": {},
   "outputs": [
    {
     "data": {
      "image/png": "[encoded data removed]",
      "text/plain": [
       "<Figure size 432x288 with 1 Axes>"
      ]
     },
     "metadata": {
      "needs_background": "light"
     },
     "output_type": "display_data"
    }
   ],
   "source": [
    "x = param_metrics.keys()\n",
    "train_acc = [metric['Train Accuracy']      for metric in param_metrics.values()]\n",
    "val_acc   = [metric['Validation Accuracy'] for metric in param_metrics.values()]\n",
    "\n",
    "# Definindo labels do plot\n",
    "plt.title(\"k-NN Model\")\n",
    "plt.ylabel(\"Accuracy\")\n",
    "plt.xlabel(\"Value of k\")\n",
    "\n",
    "# Plotando acurácia no treino e validação\n",
    "plt.xticks(ticks=list(range(1, 21, 2)))\n",
    "plt.plot(x, train_acc, label='Train')\n",
    "plt.plot(x, val_acc, label='Validation')\n",
    "\n",
    "plt.legend()\n",
    "plt.show()"
   ]
  },
  {
   "cell_type": "markdown",
   "metadata": {},
   "source": [
    "### 4.3) Guardando modelo que apresentou os melhores resultados"
   ]
  },
  {
   "cell_type": "code",
   "execution_count": 17,
   "metadata": {},
   "outputs": [
    {
     "data": {
      "text/html": [
       "<div>\n",
       "<style scoped>\n",
       "    .dataframe tbody tr th:only-of-type {\n",
       "        vertical-align: middle;\n",
       "    }\n",
       "\n",
       "    .dataframe tbody tr th {\n",
       "        vertical-align: top;\n",
       "    }\n",
       "\n",
       "    .dataframe thead th {\n",
       "        text-align: right;\n",
       "    }\n",
       "</style>\n",
       "<table border=\"1\" class=\"dataframe\">\n",
       "  <thead>\n",
       "    <tr style=\"text-align: right;\">\n",
       "      <th></th>\n",
       "      <th>Train Accuracy</th>\n",
       "      <th>Validation Accuracy</th>\n",
       "      <th>Recall</th>\n",
       "      <th>Precision</th>\n",
       "    </tr>\n",
       "  </thead>\n",
       "  <tbody>\n",
       "    <tr>\n",
       "      <th>Naive Bayes</th>\n",
       "      <td>0.916858</td>\n",
       "      <td>0.916176</td>\n",
       "      <td>0.862582</td>\n",
       "      <td>0.675045</td>\n",
       "    </tr>\n",
       "    <tr>\n",
       "      <th>Decision Tree</th>\n",
       "      <td>0.975058</td>\n",
       "      <td>0.944443</td>\n",
       "      <td>0.853501</td>\n",
       "      <td>0.735154</td>\n",
       "    </tr>\n",
       "    <tr>\n",
       "      <th>SVM</th>\n",
       "      <td>0.955738</td>\n",
       "      <td>0.941175</td>\n",
       "      <td>0.947416</td>\n",
       "      <td>0.736817</td>\n",
       "    </tr>\n",
       "    <tr>\n",
       "      <th>k-NN</th>\n",
       "      <td>0.921617</td>\n",
       "      <td>0.875033</td>\n",
       "      <td>0.952035</td>\n",
       "      <td>0.630387</td>\n",
       "    </tr>\n",
       "    <tr>\n",
       "      <th>Random Forest</th>\n",
       "      <td>NaN</td>\n",
       "      <td>NaN</td>\n",
       "      <td>NaN</td>\n",
       "      <td>NaN</td>\n",
       "    </tr>\n",
       "    <tr>\n",
       "      <th>Gradient Tree Boosting</th>\n",
       "      <td>NaN</td>\n",
       "      <td>NaN</td>\n",
       "      <td>NaN</td>\n",
       "      <td>NaN</td>\n",
       "    </tr>\n",
       "  </tbody>\n",
       "</table>\n",
       "</div>"
      ],
      "text/plain": [
       "                       Train Accuracy Validation Accuracy    Recall Precision\n",
       "Naive Bayes                  0.916858            0.916176  0.862582  0.675045\n",
       "Decision Tree                0.975058            0.944443  0.853501  0.735154\n",
       "SVM                          0.955738            0.941175  0.947416  0.736817\n",
       "k-NN                         0.921617            0.875033  0.952035  0.630387\n",
       "Random Forest                     NaN                 NaN       NaN       NaN\n",
       "Gradient Tree Boosting            NaN                 NaN       NaN       NaN"
      ]
     },
     "execution_count": 17,
     "metadata": {},
     "output_type": "execute_result"
    }
   ],
   "source": [
    "classifier = KNeighborsClassifier(n_neighbors=5)\n",
    "results, best_kNN_preds = train_model(classifier, return_pred=True)\n",
    "df.loc['k-NN'] = results\n",
    "df"
   ]
  },
  {
   "cell_type": "markdown",
   "metadata": {},
   "source": [
    "- Para esse experimento variamos o valor de k entre 1 até 20 incrementando de 2 em 2 apenas para que o experimento não demore muito tempo. O valor de k indica quantos vizinhos mais próximos o modelo irá avaliar para tomar uma decisão sobre a label do novo dado. Com isso, podemos afirmar que para o valor $k=1$ teremos um caso de overfit, o que é observado no gráfico da seção 4.2, onde a acurácia no treino é 100%. Mesmo que esse resultado seja interessante, podemos observar uma distância alta entre as curvas de treino e validação, tornando essa escolha péssima. <br><br>\n",
    "\n",
    "- Citando novamente o gráfico da seção 4.2, temos que o modelo com $k=5$ resulta no melhor modelo experimentado, pois temos a maior acurácia na validação as curvas começam a se aproximar cada vez mais. Após um certo ponto, nosso modelo poderá cair em um caso de underfit, onde as curvas de treino e validação ficam cada vez mais próximas mas com um erro empírico alto. <br><br>\n",
    "\n",
    "- Para os demais hiperparâmetros optei por deixar o valor padrão, visto que isso já apresenta um resultado interessante, como é o caso dos parâmetros ``weights`` e ``algorithm`` que indica o algoritmo a ser utilizado para computar os vizinhos mais próximos, por exemplo através de ``kd-trees``."
   ]
  },
  {
   "cell_type": "markdown",
   "metadata": {},
   "source": [
    "## 5) Random Forest\n",
    "\n",
    "- Treinamento de um modelo Random Forest através da classe RandomForestClassifier, disponível em ``sklearn.ensemble``.\n",
    "- Para este experimento iremos variar o hiperparâmetro correspondente ao número de árvores utilizadas.\n",
    "\n",
    "### 5.1) Treinamento do modelo"
   ]
  },
  {
   "cell_type": "code",
   "execution_count": 18,
   "metadata": {
    "scrolled": false
   },
   "outputs": [
    {
     "name": "stdout",
     "output_type": "stream",
     "text": [
      "Training model with number of trees = 1\n",
      "Training model with number of trees = 3\n",
      "Training model with number of trees = 5\n",
      "Training model with number of trees = 7\n",
      "Training model with number of trees = 9\n",
      "Training model with number of trees = 11\n",
      "Training model with number of trees = 13\n",
      "Training model with number of trees = 15\n",
      "Training model with number of trees = 17\n",
      "Training model with number of trees = 19\n",
      "Training model with number of trees = 21\n",
      "Training model with number of trees = 23\n",
      "Training model with number of trees = 25\n",
      "Training model with number of trees = 27\n",
      "Training model with number of trees = 29\n",
      "Training model with number of trees = 31\n",
      "Training model with number of trees = 33\n",
      "Training model with number of trees = 35\n",
      "Training model with number of trees = 37\n",
      "Training model with number of trees = 39\n",
      "Training completed!\n"
     ]
    }
   ],
   "source": [
    "param_metrics = dict()\n",
    "\n",
    "# Treinando modelo para número de árvores de 1 à 40 variando de 2 a 2\n",
    "for n_trees in range(1, 41, 2):\n",
    "    print('Training model with number of trees =', n_trees)\n",
    "    classifier = RandomForestClassifier(n_estimators=n_trees, random_state=42)\n",
    "    param_metrics[n_trees] = train_model(classifier)\n",
    "\n",
    "# Indicando que o treinamento foi concluído\n",
    "print(\"Training completed!\")"
   ]
  },
  {
   "cell_type": "markdown",
   "metadata": {},
   "source": [
    "### 5.2) Resultados gráficos do experimento"
   ]
  },
  {
   "cell_type": "code",
   "execution_count": 19,
   "metadata": {},
   "outputs": [
    {
     "data": {
      "image/png": "[encoded data removed]",
      "text/plain": [
       "<Figure size 432x288 with 1 Axes>"
      ]
     },
     "metadata": {
      "needs_background": "light"
     },
     "output_type": "display_data"
    }
   ],
   "source": [
    "x = param_metrics.keys()\n",
    "train_acc = [metric['Train Accuracy']      for metric in param_metrics.values()]\n",
    "val_acc   = [metric['Validation Accuracy'] for metric in param_metrics.values()]\n",
    "\n",
    "# Definindo labels do plot\n",
    "plt.title(\"Random Forest Model\")\n",
    "plt.ylabel(\"Accuracy\")\n",
    "plt.xlabel(\"Number of trees\")\n",
    "\n",
    "# Plotando acurácia no treino e validação\n",
    "plt.xticks(ticks=list(range(1, 41, 2)))\n",
    "plt.plot(x, train_acc, label='Train')\n",
    "plt.plot(x, val_acc, label='Validation')\n",
    "\n",
    "plt.legend()\n",
    "plt.show()"
   ]
  },
  {
   "cell_type": "markdown",
   "metadata": {},
   "source": [
    "### 5.3) Guardando modelo que apresentou os melhores resultados"
   ]
  },
  {
   "cell_type": "code",
   "execution_count": 20,
   "metadata": {},
   "outputs": [
    {
     "data": {
      "text/html": [
       "<div>\n",
       "<style scoped>\n",
       "    .dataframe tbody tr th:only-of-type {\n",
       "        vertical-align: middle;\n",
       "    }\n",
       "\n",
       "    .dataframe tbody tr th {\n",
       "        vertical-align: top;\n",
       "    }\n",
       "\n",
       "    .dataframe thead th {\n",
       "        text-align: right;\n",
       "    }\n",
       "</style>\n",
       "<table border=\"1\" class=\"dataframe\">\n",
       "  <thead>\n",
       "    <tr style=\"text-align: right;\">\n",
       "      <th></th>\n",
       "      <th>Train Accuracy</th>\n",
       "      <th>Validation Accuracy</th>\n",
       "      <th>Recall</th>\n",
       "      <th>Precision</th>\n",
       "    </tr>\n",
       "  </thead>\n",
       "  <tbody>\n",
       "    <tr>\n",
       "      <th>Naive Bayes</th>\n",
       "      <td>0.916858</td>\n",
       "      <td>0.916176</td>\n",
       "      <td>0.862582</td>\n",
       "      <td>0.675045</td>\n",
       "    </tr>\n",
       "    <tr>\n",
       "      <th>Decision Tree</th>\n",
       "      <td>0.975058</td>\n",
       "      <td>0.944443</td>\n",
       "      <td>0.853501</td>\n",
       "      <td>0.735154</td>\n",
       "    </tr>\n",
       "    <tr>\n",
       "      <th>SVM</th>\n",
       "      <td>0.955738</td>\n",
       "      <td>0.941175</td>\n",
       "      <td>0.947416</td>\n",
       "      <td>0.736817</td>\n",
       "    </tr>\n",
       "    <tr>\n",
       "      <th>k-NN</th>\n",
       "      <td>0.921617</td>\n",
       "      <td>0.875033</td>\n",
       "      <td>0.952035</td>\n",
       "      <td>0.630387</td>\n",
       "    </tr>\n",
       "    <tr>\n",
       "      <th>Random Forest</th>\n",
       "      <td>0.998366</td>\n",
       "      <td>0.954636</td>\n",
       "      <td>0.833752</td>\n",
       "      <td>0.761304</td>\n",
       "    </tr>\n",
       "    <tr>\n",
       "      <th>Gradient Tree Boosting</th>\n",
       "      <td>NaN</td>\n",
       "      <td>NaN</td>\n",
       "      <td>NaN</td>\n",
       "      <td>NaN</td>\n",
       "    </tr>\n",
       "  </tbody>\n",
       "</table>\n",
       "</div>"
      ],
      "text/plain": [
       "                       Train Accuracy Validation Accuracy    Recall Precision\n",
       "Naive Bayes                  0.916858            0.916176  0.862582  0.675045\n",
       "Decision Tree                0.975058            0.944443  0.853501  0.735154\n",
       "SVM                          0.955738            0.941175  0.947416  0.736817\n",
       "k-NN                         0.921617            0.875033  0.952035  0.630387\n",
       "Random Forest                0.998366            0.954636  0.833752  0.761304\n",
       "Gradient Tree Boosting            NaN                 NaN       NaN       NaN"
      ]
     },
     "execution_count": 20,
     "metadata": {},
     "output_type": "execute_result"
    }
   ],
   "source": [
    "classifier = RandomForestClassifier(n_estimators=9, random_state=42)\n",
    "results, best_RandomForest_preds = train_model(classifier, return_pred=True)\n",
    "df.loc['Random Forest'] = results\n",
    "df"
   ]
  },
  {
   "cell_type": "markdown",
   "metadata": {},
   "source": [
    "- Para este experimento variamos o número de árvores de decisão usadas entre 1 até 40 com incremento de 2 em 2 apenas para que o experimento não demore muito tempo. Além disso, optei por utilizar uma altura ilimitada pois foi a que resultou em um modelo mais bem comportado para ser analisado posteriormente, além de fixar uma semente para o estado aleatório apenas por motivos se ser um experimento.<br><br>\n",
    "\n",
    "- Um modelo de Random Forest é, como o próprio nome ja diz, uma floresta contendo múltiplas árvores de decisão (conjunto), tornando assim o modelo mais robusto do que quando se usa apenas 1 árvore. Cada árvore pode ser treinada usando todos os dados ou uma quantidade seleta dos mesmos (parâmetro ``bootstrap``), que foi o que optei por usar nesse experimento. O modelo prevê o label do dado sobre cada árvore criada e no final ocorre uma votação, elegendo assim a melhor resposta dentre as dadas. Dessa forma, o modelo se torna robusto e reduz o overfitting por tirar uma média das respostas, garantindo assim um resultado interessante mesmo com poucas árvores de decisão. <br><br>\n",
    "\n",
    "- Como observado no gráfico da seção 5.2, temos que o modelo usando $\\approx$ 31 árvores de decisão resultou no melhor modelo para esse experimento. Por ser um modelo aleatório (random), a cada execução do experimento obtive um resultado diferente, mas todos circulavam em torno do valor 31, por isso decidi aproximar para esse valor a resposta. A partir desse ponto, as curvas de validação e treino não se aproximavam tanto e a curva de treino cada vez mais se aproximava de uma acurácia 100%, decorando assim os dados de treino; enquanto que a curva de validação sofria pequenas alterações."
   ]
  },
  {
   "cell_type": "markdown",
   "metadata": {},
   "source": [
    "## 6) Gradient Tree Boosting\n",
    "\n",
    "- Treinamento de um modelo Gradient Tree Boosting através da classe GradientBoostingClassifier, disponível em ``sklearn.ensemble``.\n",
    "- Para este experimento iremos variar o hiperparâmetro correspondente ao número de iterações a ser utilizado.\n",
    "\n",
    "### 6.1) Treinamento do modelo"
   ]
  },
  {
   "cell_type": "code",
   "execution_count": 21,
   "metadata": {},
   "outputs": [
    {
     "name": "stdout",
     "output_type": "stream",
     "text": [
      "Training model with number of iterations = 1\n",
      "Training model with number of iterations = 3\n",
      "Training model with number of iterations = 5\n",
      "Training model with number of iterations = 7\n",
      "Training model with number of iterations = 9\n",
      "Training model with number of iterations = 11\n",
      "Training model with number of iterations = 13\n",
      "Training model with number of iterations = 15\n",
      "Training model with number of iterations = 17\n",
      "Training model with number of iterations = 19\n",
      "Training model with number of iterations = 21\n",
      "Training model with number of iterations = 23\n",
      "Training model with number of iterations = 25\n",
      "Training model with number of iterations = 27\n",
      "Training model with number of iterations = 29\n",
      "Training model with number of iterations = 31\n",
      "Training model with number of iterations = 33\n",
      "Training model with number of iterations = 35\n",
      "Training model with number of iterations = 37\n",
      "Training model with number of iterations = 39\n",
      "Training completed!\n"
     ]
    }
   ],
   "source": [
    "param_metrics = dict()\n",
    "\n",
    "# Treinando modelo para número de iterações de 1 à 40 variando de 2 a 2\n",
    "for itr in range(1, 41, 2):\n",
    "    print('Training model with number of iterations =', itr)\n",
    "    classifier = GradientBoostingClassifier(n_estimators=itr)\n",
    "    param_metrics[itr] = train_model(classifier)\n",
    "\n",
    "# Indicando que o treinamento foi concluído\n",
    "print(\"Training completed!\")"
   ]
  },
  {
   "cell_type": "markdown",
   "metadata": {},
   "source": [
    "### 6.2) Resultados gráficos do experimento"
   ]
  },
  {
   "cell_type": "code",
   "execution_count": 22,
   "metadata": {},
   "outputs": [
    {
     "data": {
      "image/png": "[encoded data removed]",
      "text/plain": [
       "<Figure size 432x288 with 1 Axes>"
      ]
     },
     "metadata": {
      "needs_background": "light"
     },
     "output_type": "display_data"
    }
   ],
   "source": [
    "x = param_metrics.keys()\n",
    "train_acc = [metric['Train Accuracy']      for metric in param_metrics.values()]\n",
    "val_acc   = [metric['Validation Accuracy'] for metric in param_metrics.values()]\n",
    "\n",
    "# Definindo labels do plot\n",
    "plt.title(\"Gradient Tree Boosting Model\")\n",
    "plt.ylabel(\"Accuracy\")\n",
    "plt.xlabel(\"Number of iterations\")\n",
    "\n",
    "# Plotando acurácia no treino e validação\n",
    "plt.xticks(ticks=list(range(1, 41, 2)))\n",
    "plt.plot(x, train_acc, label='Train')\n",
    "plt.plot(x, val_acc, label='Validation')\n",
    "\n",
    "plt.legend()\n",
    "plt.show()"
   ]
  },
  {
   "cell_type": "markdown",
   "metadata": {},
   "source": [
    "### 6.3) Guardando modelo que apresentou os melhores resultados"
   ]
  },
  {
   "cell_type": "code",
   "execution_count": 23,
   "metadata": {},
   "outputs": [
    {
     "data": {
      "text/html": [
       "<div>\n",
       "<style scoped>\n",
       "    .dataframe tbody tr th:only-of-type {\n",
       "        vertical-align: middle;\n",
       "    }\n",
       "\n",
       "    .dataframe tbody tr th {\n",
       "        vertical-align: top;\n",
       "    }\n",
       "\n",
       "    .dataframe thead th {\n",
       "        text-align: right;\n",
       "    }\n",
       "</style>\n",
       "<table border=\"1\" class=\"dataframe\">\n",
       "  <thead>\n",
       "    <tr style=\"text-align: right;\">\n",
       "      <th></th>\n",
       "      <th>Train Accuracy</th>\n",
       "      <th>Validation Accuracy</th>\n",
       "      <th>Recall</th>\n",
       "      <th>Precision</th>\n",
       "    </tr>\n",
       "  </thead>\n",
       "  <tbody>\n",
       "    <tr>\n",
       "      <th>Naive Bayes</th>\n",
       "      <td>0.916858</td>\n",
       "      <td>0.916176</td>\n",
       "      <td>0.862582</td>\n",
       "      <td>0.675045</td>\n",
       "    </tr>\n",
       "    <tr>\n",
       "      <th>Decision Tree</th>\n",
       "      <td>0.975058</td>\n",
       "      <td>0.944443</td>\n",
       "      <td>0.853501</td>\n",
       "      <td>0.735154</td>\n",
       "    </tr>\n",
       "    <tr>\n",
       "      <th>SVM</th>\n",
       "      <td>0.955738</td>\n",
       "      <td>0.941175</td>\n",
       "      <td>0.947416</td>\n",
       "      <td>0.736817</td>\n",
       "    </tr>\n",
       "    <tr>\n",
       "      <th>k-NN</th>\n",
       "      <td>0.921617</td>\n",
       "      <td>0.875033</td>\n",
       "      <td>0.952035</td>\n",
       "      <td>0.630387</td>\n",
       "    </tr>\n",
       "    <tr>\n",
       "      <th>Random Forest</th>\n",
       "      <td>0.998366</td>\n",
       "      <td>0.954636</td>\n",
       "      <td>0.833752</td>\n",
       "      <td>0.761304</td>\n",
       "    </tr>\n",
       "    <tr>\n",
       "      <th>Gradient Tree Boosting</th>\n",
       "      <td>0.976403</td>\n",
       "      <td>0.955404</td>\n",
       "      <td>0.855098</td>\n",
       "      <td>0.750171</td>\n",
       "    </tr>\n",
       "  </tbody>\n",
       "</table>\n",
       "</div>"
      ],
      "text/plain": [
       "                       Train Accuracy Validation Accuracy    Recall Precision\n",
       "Naive Bayes                  0.916858            0.916176  0.862582  0.675045\n",
       "Decision Tree                0.975058            0.944443  0.853501  0.735154\n",
       "SVM                          0.955738            0.941175  0.947416  0.736817\n",
       "k-NN                         0.921617            0.875033  0.952035  0.630387\n",
       "Random Forest                0.998366            0.954636  0.833752  0.761304\n",
       "Gradient Tree Boosting       0.976403            0.955404  0.855098  0.750171"
      ]
     },
     "execution_count": 23,
     "metadata": {},
     "output_type": "execute_result"
    }
   ],
   "source": [
    "classifier = GradientBoostingClassifier(n_estimators=40)\n",
    "results, best_GradientBoosting_preds = train_model(classifier, return_pred=True)\n",
    "df.loc['Gradient Tree Boosting'] = results\n",
    "df"
   ]
  },
  {
   "cell_type": "markdown",
   "metadata": {},
   "source": [
    "- Variamos o número de iterações entre 1 até 40 com incremento de 2 em 2 apenas para que o experimento não demore muito tempo. Diferentemente da Random Forest, uma altura igual à 3 (valor padrão do parâmetro ``max_depth``) resultou em um modelo melhor do que aquele que utiliza altura ilimitada.<br><br>\n",
    "\n",
    "- Um modelo de Gradient Tree Boosting utiliza uma técnica chamada Boosting, que consiste em reduzir primariamente o viés do modelo. Tanto este quanto o Random Forest utiliza modelos menores de árvores de decisão para prever o label de um dado; porém, enquanto que no Random Forest as árvores são treinadas de forma independente, no Gradient Tree Boosting elas são treinadas de forma iterativa, onde o erro e correção de uma afeta as demais. Além dessa diferença temos que o modelo de Random Forest não utiliza Boosting mas sim Bagging que, por sua vez, consiste em reduzir primariamente a variância do modelo.<br><br>\n",
    "\n",
    "- Como observado no gráfico da seção 6.2, temos que o modelo usando $\\approx$ 40 iterações resultou no melhor modelo para esse experimento. Provavelmente, com mais iterações é capaz que o modelo consiga valores melhores de acurácia na validação, porém com baixa variação entre as iterações. <br><br>"
   ]
  },
  {
   "cell_type": "markdown",
   "metadata": {},
   "source": [
    "# Comparação entre os modelos\n",
    "## 1) Através das métricas computadas "
   ]
  },
  {
   "cell_type": "code",
   "execution_count": 24,
   "metadata": {},
   "outputs": [
    {
     "data": {
      "text/html": [
       "<div>\n",
       "<style scoped>\n",
       "    .dataframe tbody tr th:only-of-type {\n",
       "        vertical-align: middle;\n",
       "    }\n",
       "\n",
       "    .dataframe tbody tr th {\n",
       "        vertical-align: top;\n",
       "    }\n",
       "\n",
       "    .dataframe thead th {\n",
       "        text-align: right;\n",
       "    }\n",
       "</style>\n",
       "<table border=\"1\" class=\"dataframe\">\n",
       "  <thead>\n",
       "    <tr style=\"text-align: right;\">\n",
       "      <th></th>\n",
       "      <th>Train Accuracy</th>\n",
       "      <th>Validation Accuracy</th>\n",
       "      <th>Recall</th>\n",
       "      <th>Precision</th>\n",
       "    </tr>\n",
       "  </thead>\n",
       "  <tbody>\n",
       "    <tr>\n",
       "      <th>Naive Bayes</th>\n",
       "      <td>0.916858</td>\n",
       "      <td>0.916176</td>\n",
       "      <td>0.862582</td>\n",
       "      <td>0.675045</td>\n",
       "    </tr>\n",
       "    <tr>\n",
       "      <th>Decision Tree</th>\n",
       "      <td>0.975058</td>\n",
       "      <td>0.944443</td>\n",
       "      <td>0.853501</td>\n",
       "      <td>0.735154</td>\n",
       "    </tr>\n",
       "    <tr>\n",
       "      <th>SVM</th>\n",
       "      <td>0.955738</td>\n",
       "      <td>0.941175</td>\n",
       "      <td>0.947416</td>\n",
       "      <td>0.736817</td>\n",
       "    </tr>\n",
       "    <tr>\n",
       "      <th>k-NN</th>\n",
       "      <td>0.921617</td>\n",
       "      <td>0.875033</td>\n",
       "      <td>0.952035</td>\n",
       "      <td>0.630387</td>\n",
       "    </tr>\n",
       "    <tr>\n",
       "      <th>Random Forest</th>\n",
       "      <td>0.998366</td>\n",
       "      <td>0.954636</td>\n",
       "      <td>0.833752</td>\n",
       "      <td>0.761304</td>\n",
       "    </tr>\n",
       "    <tr>\n",
       "      <th>Gradient Tree Boosting</th>\n",
       "      <td>0.976403</td>\n",
       "      <td>0.955404</td>\n",
       "      <td>0.855098</td>\n",
       "      <td>0.750171</td>\n",
       "    </tr>\n",
       "  </tbody>\n",
       "</table>\n",
       "</div>"
      ],
      "text/plain": [
       "                       Train Accuracy Validation Accuracy    Recall Precision\n",
       "Naive Bayes                  0.916858            0.916176  0.862582  0.675045\n",
       "Decision Tree                0.975058            0.944443  0.853501  0.735154\n",
       "SVM                          0.955738            0.941175  0.947416  0.736817\n",
       "k-NN                         0.921617            0.875033  0.952035  0.630387\n",
       "Random Forest                0.998366            0.954636  0.833752  0.761304\n",
       "Gradient Tree Boosting       0.976403            0.955404  0.855098  0.750171"
      ]
     },
     "execution_count": 24,
     "metadata": {},
     "output_type": "execute_result"
    }
   ],
   "source": [
    "df"
   ]
  },
  {
   "cell_type": "markdown",
   "metadata": {},
   "source": [
    "- Com base na tabela de métricas acima temos que o Gradient Tree Boosting, utilizando $\\approx$ 40 iterações com árvores de altura iguais à 3, obteve o melhor resultado dentre os modelos experimentados.<br><br>\n",
    "\n",
    "- Era de se esperar que os 2 melhores modelos fossem tanto Random Forest quanto Gradient Tree Boosting, visto que são modelos robustos à overfitting, o que é recomendado quando temos poucos dados, como foi o caso desse experimento. Os demais modelos não se saíram tão mal, sendo o SVM com kernel linear o 3º melhor modelo desse experimento e o mais \"equilibrado\" nas métricas estudadas, com pouca distância entre a acurácia no treino e na validação, indicando que o modelo não overfitou.<br><br>\n",
    "\n",
    "- O k-NN obteve um bom recall, porém se saiu pior do que o modelo baseline, Naive Bayes, no que tange a acurácia durante a validação, possuindo a menor precisão do experimento."
   ]
  },
  {
   "cell_type": "markdown",
   "metadata": {},
   "source": [
    "## 2) Curva ROC\n",
    "\n",
    "- Uma outra forma de comparar os modelos é através da curva ROC, ou Receiver Operating Characteristic curve. Essa curva nos dá a informação da capacidade do modelo ao variarmos o threshold de discriminação (área sob a curva), mostrando a taxa de true positives (verdadeiros positivos) sobre false positives (falsos positivos)."
   ]
  },
  {
   "cell_type": "code",
   "execution_count": 25,
   "metadata": {},
   "outputs": [
    {
     "data": {
      "image/png": "[encoded data removed]",
      "text/plain": [
       "<Figure size 432x288 with 1 Axes>"
      ]
     },
     "metadata": {
      "needs_background": "light"
     },
     "output_type": "display_data"
    },
    {
     "data": {
      "image/png": "[encoded data removed]",
      "text/plain": [
       "<Figure size 432x288 with 1 Axes>"
      ]
     },
     "metadata": {
      "needs_background": "light"
     },
     "output_type": "display_data"
    },
    {
     "data": {
      "image/png": "[encoded data removed]",
      "text/plain": [
       "<Figure size 432x288 with 1 Axes>"
      ]
     },
     "metadata": {
      "needs_background": "light"
     },
     "output_type": "display_data"
    },
    {
     "data": {
      "image/png": "[encoded data removed]",
      "text/plain": [
       "<Figure size 432x288 with 1 Axes>"
      ]
     },
     "metadata": {
      "needs_background": "light"
     },
     "output_type": "display_data"
    },
    {
     "data": {
      "image/png": "[encoded data removed]",
      "text/plain": [
       "<Figure size 432x288 with 1 Axes>"
      ]
     },
     "metadata": {
      "needs_background": "light"
     },
     "output_type": "display_data"
    },
    {
     "data": {
      "image/png": "[encoded data removed]",
      "text/plain": [
       "<Figure size 432x288 with 1 Axes>"
      ]
     },
     "metadata": {
      "needs_background": "light"
     },
     "output_type": "display_data"
    }
   ],
   "source": [
    "_models         = ['Naive Bayes', 'Decision Tree', 'SVM', 'k-NN', 'Random Forest', 'Gradient Tree Boosting']\n",
    "bestModelsPreds = [best_NaiveBayes_preds, best_DecisionTree_preds, best_SVM_preds, best_kNN_preds, best_RandomForest_preds, \n",
    "                   best_GradientBoosting_preds]\n",
    "\n",
    "for name, pred in zip(_models, bestModelsPreds):    \n",
    "    # Calculando taxa de false positives, true positives e área sob curva\n",
    "    fpr, tpr, _ = metrics.roc_curve(y, pred)\n",
    "    auc = metrics.auc(fpr, tpr)\n",
    "    \n",
    "    # Plotando curva ROC\n",
    "    plt.figure()\n",
    "    plt.title(name)\n",
    "    plt.xlabel(\"False Positive Rate\")\n",
    "    plt.ylabel(\"True Positive Rate\")\n",
    "    plt.xlim([0.0, 1.0])\n",
    "    plt.ylim([0.0, 1.05])\n",
    "    \n",
    "    plt.plot(fpr, tpr, color='darkorange', label='ROC Curve (area=%0.5f)' % auc)\n",
    "    plt.plot([0, 1], [0, 1], color='navy', linestyle='--')\n",
    "    \n",
    "    plt.legend()\n",
    "    plt.show()"
   ]
  },
  {
   "cell_type": "markdown",
   "metadata": {},
   "source": [
    "- Como determinado pelas curvas ROC, temos que os modelos Random Forest e Gradient Tree Boosting foram os melhores durante o experimento."
   ]
  }
 ],
 "metadata": {
  "kernelspec": {
   "display_name": "Python 3",
   "language": "python",
   "name": "python3"
  },
  "language_info": {
   "codemirror_mode": {
    "name": "ipython",
    "version": 3
   },
   "file_extension": ".py",
   "mimetype": "text/x-python",
   "name": "python",
   "nbconvert_exporter": "python",
   "pygments_lexer": "ipython3",
   "version": "3.7.1"
  }
 },
 "nbformat": 4,
 "nbformat_minor": 2
}
